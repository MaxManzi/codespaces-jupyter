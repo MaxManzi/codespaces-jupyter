{
 "cells": [
  {
   "cell_type": "code",
   "execution_count": null,
   "metadata": {},
   "outputs": [],
   "source": [
    "x = 10\n",
    "\n",
    "if x > 2:\n",
    "    print(\"x is greater than 2\")\n",
    "elif x < 0:\n",
    "    print(\"x is negative\")\n",
    "else:\n",
    "    print(\"x is 0, 1, or 2\")\n",
    "\n",
    "import random\n",
    "\n",
    "value = random.randint(1000, 9999)\n",
    "print(value)\n",
    "\n",
    "odds = 0\n",
    "evens = 0\n",
    "\n",
    "if value % 2 == 1:\n",
    "    print(\"value is odd\")\n",
    "    odds = odds + 1\n",
    "else:\n",
    "    evens += 1\n",
    "print(\"value is\", value)\n",
    "print(\"odds\", odds)\n",
    "print(\"evens\", evens)"
   ]
  },
  {
   "cell_type": "code",
   "execution_count": 14,
   "metadata": {},
   "outputs": [
    {
     "name": "stdout",
     "output_type": "stream",
     "text": [
      "5389\n",
      "value is odd\n",
      "value is 5389\n",
      "odds 1\n",
      "evens 0\n"
     ]
    }
   ],
   "source": [
    "import random\n",
    "\n",
    "value = random.randint(1000, 9999)\n",
    "print(value)\n",
    "\n",
    "odds = 0\n",
    "evens = 0\n",
    "\n",
    "if value % 2 == 1:\n",
    "    print(\"value is odd\")\n",
    "    odds = odds + 1\n",
    "else:\n",
    "    evens += 1\n",
    "print(\"value is\", value)\n",
    "print(\"odds\", odds)\n",
    "print(\"evens\", evens)"
   ]
  }
 ],
 "metadata": {
  "kernelspec": {
   "display_name": "Python 3",
   "language": "python",
   "name": "python3"
  },
  "language_info": {
   "codemirror_mode": {
    "name": "ipython",
    "version": 3
   },
   "file_extension": ".py",
   "mimetype": "text/x-python",
   "name": "python",
   "nbconvert_exporter": "python",
   "pygments_lexer": "ipython3",
   "version": "3.10.8"
  },
  "orig_nbformat": 4
 },
 "nbformat": 4,
 "nbformat_minor": 2
}
